{
 "cells": [
  {
   "cell_type": "markdown",
   "metadata": {},
   "source": [
    "# League link"
   ]
  },
  {
   "cell_type": "code",
   "execution_count": 49,
   "metadata": {},
   "outputs": [
    {
     "data": {
      "text/html": [
       "<div>\n",
       "<style scoped>\n",
       "    .dataframe tbody tr th:only-of-type {\n",
       "        vertical-align: middle;\n",
       "    }\n",
       "\n",
       "    .dataframe tbody tr th {\n",
       "        vertical-align: top;\n",
       "    }\n",
       "\n",
       "    .dataframe thead th {\n",
       "        text-align: right;\n",
       "    }\n",
       "</style>\n",
       "<table border=\"1\" class=\"dataframe\">\n",
       "  <thead>\n",
       "    <tr style=\"text-align: right;\">\n",
       "      <th></th>\n",
       "      <th>Date</th>\n",
       "      <th>Time</th>\n",
       "      <th>Home Team</th>\n",
       "      <th>Score</th>\n",
       "      <th>Away Team</th>\n",
       "      <th>Result</th>\n",
       "      <th>Links</th>\n",
       "    </tr>\n",
       "  </thead>\n",
       "  <tbody>\n",
       "    <tr>\n",
       "      <th>27</th>\n",
       "      <td>2023-08-27</td>\n",
       "      <td>14:00</td>\n",
       "      <td>Burnley FC</td>\n",
       "      <td>-</td>\n",
       "      <td>Aston Villa</td>\n",
       "      <td>1:3 (0:2)</td>\n",
       "      <td>https://www.worldfootball.net/report/premier-l...</td>\n",
       "    </tr>\n",
       "    <tr>\n",
       "      <th>28</th>\n",
       "      <td>2023-08-27</td>\n",
       "      <td>14:00</td>\n",
       "      <td>Sheffield United</td>\n",
       "      <td>-</td>\n",
       "      <td>Manchester City</td>\n",
       "      <td>1:2 (0:0)</td>\n",
       "      <td>https://www.worldfootball.net/report/premier-l...</td>\n",
       "    </tr>\n",
       "    <tr>\n",
       "      <th>29</th>\n",
       "      <td>2023-08-27</td>\n",
       "      <td>16:30</td>\n",
       "      <td>Newcastle United</td>\n",
       "      <td>-</td>\n",
       "      <td>Liverpool FC</td>\n",
       "      <td>1:2 (1:0)</td>\n",
       "      <td>https://www.worldfootball.net/report/premier-l...</td>\n",
       "    </tr>\n",
       "  </tbody>\n",
       "</table>\n",
       "</div>"
      ],
      "text/plain": [
       "         Date   Time         Home Team Score        Away Team     Result  \\\n",
       "27 2023-08-27  14:00        Burnley FC     -      Aston Villa  1:3 (0:2)   \n",
       "28 2023-08-27  14:00  Sheffield United     -  Manchester City  1:2 (0:0)   \n",
       "29 2023-08-27  16:30  Newcastle United     -     Liverpool FC  1:2 (1:0)   \n",
       "\n",
       "                                                Links  \n",
       "27  https://www.worldfootball.net/report/premier-l...  \n",
       "28  https://www.worldfootball.net/report/premier-l...  \n",
       "29  https://www.worldfootball.net/report/premier-l...  "
      ]
     },
     "execution_count": 49,
     "metadata": {},
     "output_type": "execute_result"
    }
   ],
   "source": [
    "import requests\n",
    "from bs4 import BeautifulSoup\n",
    "import pandas as pd\n",
    "import numpy as np\n",
    "from datetime import datetime, date,timedelta\n",
    "\n",
    "url = \"https://www.worldfootball.net/all_matches/eng-premier-league-2023-2024/\"\n",
    "response = requests.get(url)\n",
    "soup = BeautifulSoup(response.content, \"html.parser\")\n",
    "\n",
    "table = soup.find(\"table\", class_=\"standard_tabelle\")\n",
    "\n",
    "data = []\n",
    "match_links = []\n",
    "\n",
    "\n",
    "\n",
    "table_rows = table.find_all(\"tr\")\n",
    "for row in table_rows:\n",
    "    columns = row.find_all(\"td\")\n",
    "    row_data = [column.get_text(strip=True) for column in columns]\n",
    "    data.append(row_data)\n",
    "    \n",
    "    match_link = row.find(\"a\", href=lambda href: href and \"report\" in href)\n",
    "    if match_link:\n",
    "        match_links.append(match_link[\"href\"])\n",
    "\n",
    "\n",
    "data = data[1:]\n",
    "\n",
    "\n",
    "columns = ['Date', 'Time', 'Home Team', 'Score', 'Away Team', 'Result', 'Links']\n",
    "df = pd.DataFrame(data, columns=columns)\n",
    "df = df.dropna().reset_index(drop=True)\n",
    "df.Links = match_links\n",
    "# Add the prefix to the column\n",
    "df['Links'] = 'https://www.worldfootball.net' + df['Links']\n",
    "df['Date'] = df['Date'].replace('', np.nan).ffill()\n",
    "df['Date'] = pd.to_datetime(df['Date'],  format='%d/%m/%Y')\n",
    "today = date.today()\n",
    "\n",
    "# Filter rows with today's date\n",
    "today_df = df[df['Date'].dt.date == today]\n",
    "today_df"
   ]
  },
  {
   "cell_type": "markdown",
   "metadata": {},
   "source": [
    "# Match link"
   ]
  },
  {
   "cell_type": "code",
   "execution_count": 53,
   "metadata": {},
   "outputs": [
    {
     "data": {
      "text/plain": [
       "'https://www.worldfootball.net/referee_summary/michael-salisbury/'"
      ]
     },
     "execution_count": 53,
     "metadata": {},
     "output_type": "execute_result"
    }
   ],
   "source": [
    "import requests\n",
    "from bs4 import BeautifulSoup\n",
    "\n",
    "url = 'https://www.worldfootball.net/report/premier-league-2023-2024-burnley-fc-aston-villa/'\n",
    "response = requests.get(url)\n",
    "html_content = response.content\n",
    "soup = BeautifulSoup(html_content, \"html.parser\")\n",
    "referee_links = soup.find_all(\"a\", href=lambda href: href and \"referee_summary\" in href)\n",
    "ref_link = []\n",
    "for link in referee_links:\n",
    "    link_url = link.get(\"href\")\n",
    "    ref_link.append(f'https://www.worldfootball.net{link_url}')\n",
    "\n",
    "ref_link = ref_link[0]\n",
    "ref_link\n"
   ]
  },
  {
   "cell_type": "markdown",
   "metadata": {},
   "source": [
    "# Referee link"
   ]
  },
  {
   "cell_type": "code",
   "execution_count": 55,
   "metadata": {},
   "outputs": [
    {
     "name": "stdout",
     "output_type": "stream",
     "text": [
      "==================================================\n",
      "/referees/eng-premier-league-2022-2023/1/\n",
      "/referee_summary/michael-salisbury/3/1/eng-premier-league-2022-2023/\n",
      "/referees/eng-championship-2022-2023/1/\n",
      "/referee_summary/michael-salisbury/3/1/eng-championship-2022-2023/\n",
      "/referees/eng-fa-cup-2022-2023/1/\n",
      "/referee_summary/michael-salisbury/3/1/eng-fa-cup-2022-2023/\n",
      "/referees/eng-league-cup-2022-2023/1/\n",
      "/referee_summary/michael-salisbury/3/1/eng-league-cup-2022-2023/\n",
      "/referees/eng-playoffs-2022-2023-league-one/1/\n",
      "/referee_summary/michael-salisbury/3/1/eng-playoffs-2022-2023-league-one/\n"
     ]
    }
   ],
   "source": [
    "from bs4 import BeautifulSoup\n",
    "import requests\n",
    "\n",
    "url = \"https://www.worldfootball.net//referee_summary/michael-salisbury/\"\n",
    "\n",
    "response = requests.get(url)\n",
    "html_content = response.content\n",
    "\n",
    "soup = BeautifulSoup(html_content, \"html.parser\")\n",
    "\n",
    "table = soup.find(\"table\")\n",
    "rows = table.find_all(\"tr\")\n",
    "\n",
    "for row in rows:\n",
    "    columns = row.find_all(\"td\")\n",
    "    for column in columns:\n",
    "        (column.get_text())\n",
    "\n",
    "\n",
    "print(\"=\" * 50) \n",
    "referee_summary_links = soup.find_all(\"a\", href=lambda href: href and \"referee_summary\" and \"2023-2024\" and \"2022-2023\" in href)\n",
    "\n",
    "# Extract and print the href attributes of the links\n",
    "for link in referee_summary_links:\n",
    "    link_url = link.get(\"href\")\n",
    "    print(link_url)\n"
   ]
  },
  {
   "cell_type": "markdown",
   "metadata": {},
   "source": [
    "# Refereed link"
   ]
  },
  {
   "cell_type": "code",
   "execution_count": 5,
   "metadata": {},
   "outputs": [
    {
     "data": {
      "text/plain": [
       "[['04/10/2022', 'Cardiff City', '-', 'Blackburn Rovers', '1:0', '4', '-', '-'],\n",
       " ['01/11/2022', 'Luton Town', '-', 'Reading FC', '0:0', '5', '-', '-'],\n",
       " ['26/12/2022', 'Hull City', '-', 'Blackpool FC', '1:1', '4', '-', '1'],\n",
       " ['25/02/2023', 'Reading FC', '-', 'Blackpool FC', '3:1', '1', '-', '-']]"
      ]
     },
     "execution_count": 5,
     "metadata": {},
     "output_type": "execute_result"
    }
   ],
   "source": [
    "import requests\n",
    "from bs4 import BeautifulSoup\n",
    "import pandas as pd\n",
    "\n",
    "url = \"https://www.worldfootball.net/referee_summary/john-brooks_2/3/1/eng-championship-2022-2023/\"\n",
    "response = requests.get(url)\n",
    "soup = BeautifulSoup(response.content, \"html.parser\")\n",
    "\n",
    "table = soup.find(\"table\", class_=\"standard_tabelle\")\n",
    "\n",
    "data = []  # List to store table data\n",
    "\n",
    "table_rows = table.find_all(\"tr\")\n",
    "for row in table_rows:\n",
    "    columns = row.find_all(\"td\")\n",
    "    row_data = [column.get_text(strip=True) for column in columns]\n",
    "    data.append(row_data)\n",
    "\n",
    "data = data[1:]\n",
    "\n",
    "data\n"
   ]
  }
 ],
 "metadata": {
  "kernelspec": {
   "display_name": "Python 3",
   "language": "python",
   "name": "python3"
  },
  "language_info": {
   "codemirror_mode": {
    "name": "ipython",
    "version": 3
   },
   "file_extension": ".py",
   "mimetype": "text/x-python",
   "name": "python",
   "nbconvert_exporter": "python",
   "pygments_lexer": "ipython3",
   "version": "3.11.1"
  },
  "orig_nbformat": 4
 },
 "nbformat": 4,
 "nbformat_minor": 2
}
